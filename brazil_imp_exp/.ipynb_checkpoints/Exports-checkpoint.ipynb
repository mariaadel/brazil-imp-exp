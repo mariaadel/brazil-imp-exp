{
 "cells": [
  {
   "cell_type": "code",
   "execution_count": 20,
   "metadata": {},
   "outputs": [
    {
     "ename": "IndentationError",
     "evalue": "unindent does not match any outer indentation level (<tokenize>, line 11)",
     "output_type": "error",
     "traceback": [
      "\u001b[0;36m  File \u001b[0;32m\"<tokenize>\"\u001b[0;36m, line \u001b[0;32m11\u001b[0m\n\u001b[0;31m    chunk['Date'] = pd.to_datetime(df.CO_ANO.astype(str) + '/' + df.CO_MES.astype(str) + '/01')\u001b[0m\n\u001b[0m    ^\u001b[0m\n\u001b[0;31mIndentationError\u001b[0m\u001b[0;31m:\u001b[0m unindent does not match any outer indentation level\n"
     ]
    }
   ],
   "source": [
    "from matplotlib import rcParams, cycler\n",
    "import matplotlib.pyplot as plt\n",
    "import numpy as np\n",
    "import pandas as pd\n",
    "import datetime\n",
    "filename = \"./data/EXP_COMPLETA_MUN.csv\"\n",
    "chunksize = 10 ** 2\n",
    "\n",
    "def process(chunk):\n",
    "  print(chunk.head())\n",
    "  chunk['Date'] = pd.to_datetime(df.CO_ANO.astype(str) + '/' + df.CO_MES.astype(str) + '/01')\n",
    "  res = chunk.groupby(['Date']).agg('sum').reset_index()[['Date', 'KG_LIQUIDO']]\n",
    "  return res\n",
    "frames = []\n",
    "with pd.read_csv(filename, sep=\";\" ,chunksize=chunksize, squeeze=True) as reader:\n",
    "    for chunk in reader:\n",
    "        frames.append(process(chunk))\n",
    "df = pd.concat(frames).groupby(['Date']).agg('sum').reset_index()\n",
    "df1.KG_LIQUIDO.plot()\n",
    "plt.tight_layout()\n",
    "plt.show()"
   ]
  },
  {
   "cell_type": "code",
   "execution_count": null,
   "metadata": {},
   "outputs": [],
   "source": []
  }
 ],
 "metadata": {
  "kernelspec": {
   "display_name": "Python 3",
   "language": "python",
   "name": "python3"
  },
  "language_info": {
   "codemirror_mode": {
    "name": "ipython",
    "version": 3
   },
   "file_extension": ".py",
   "mimetype": "text/x-python",
   "name": "python",
   "nbconvert_exporter": "python",
   "pygments_lexer": "ipython3",
   "version": "3.8.6"
  },
  "widgets": {
   "application/vnd.jupyter.widget-state+json": {
    "state": {},
    "version_major": 2,
    "version_minor": 0
   }
  }
 },
 "nbformat": 4,
 "nbformat_minor": 4
}
